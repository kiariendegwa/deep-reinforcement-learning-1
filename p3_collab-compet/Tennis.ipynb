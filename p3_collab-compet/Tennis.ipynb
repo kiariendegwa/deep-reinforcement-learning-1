{
 "cells": [
  {
   "cell_type": "code",
   "execution_count": 16,
   "metadata": {},
   "outputs": [],
   "source": [
    "from unityagents import UnityEnvironment\n",
    "import numpy as np"
   ]
  },
  {
   "cell_type": "code",
   "execution_count": 17,
   "metadata": {},
   "outputs": [
    {
     "name": "stderr",
     "output_type": "stream",
     "text": [
      "INFO:unityagents:\n",
      "'Academy' started successfully!\n",
      "Unity Academy name: Academy\n",
      "        Number of Brains: 1\n",
      "        Number of External Brains : 1\n",
      "        Lesson number : 0\n",
      "        Reset Parameters :\n",
      "\t\t\n",
      "Unity brain name: TennisBrain\n",
      "        Number of Visual Observations (per agent): 0\n",
      "        Vector Observation space type: continuous\n",
      "        Vector Observation space size (per agent): 8\n",
      "        Number of stacked Vector Observation: 3\n",
      "        Vector Action space type: continuous\n",
      "        Vector Action space size (per agent): 2\n",
      "        Vector Action descriptions: , \n"
     ]
    }
   ],
   "source": [
    "env = UnityEnvironment(file_name=\"./Tennis_Windows_x86_64/Tennis\")"
   ]
  },
  {
   "cell_type": "markdown",
   "metadata": {},
   "source": [
    "Environments contain **_brains_** which are responsible for deciding the actions of their associated agents. Here we check for the first brain available, and set it as the default brain we will be controlling from Python."
   ]
  },
  {
   "cell_type": "code",
   "execution_count": 18,
   "metadata": {},
   "outputs": [],
   "source": [
    "# get the default brain\n",
    "brain_name = env.brain_names[0]\n",
    "brain = env.brains[brain_name]"
   ]
  },
  {
   "cell_type": "code",
   "execution_count": 19,
   "metadata": {},
   "outputs": [
    {
     "name": "stdout",
     "output_type": "stream",
     "text": [
      "Number of agents: 2\n",
      "Size of each action: 2\n",
      "There are 2 agents. Each observes a state with length: 24\n",
      "The state for the first agent looks like: [ 0.          0.          0.          0.          0.          0.\n",
      "  0.          0.          0.          0.          0.          0.\n",
      "  0.          0.          0.          0.         -6.65278625 -1.5\n",
      " -0.          0.          6.83172083  6.         -0.          0.        ]\n"
     ]
    }
   ],
   "source": [
    "# reset the environment\n",
    "env_info = env.reset(train_mode=True)[brain_name]\n",
    "\n",
    "# number of agents \n",
    "num_agents = len(env_info.agents)\n",
    "print('Number of agents:', num_agents)\n",
    "\n",
    "# size of each action\n",
    "action_size = brain.vector_action_space_size\n",
    "print('Size of each action:', action_size)\n",
    "\n",
    "# examine the state space \n",
    "states = env_info.vector_observations\n",
    "state_size = states.shape[1]\n",
    "print('There are {} agents. Each observes a state with length: {}'.format(states.shape[0], state_size))\n",
    "print('The state for the first agent looks like:', states[0])"
   ]
  },
  {
   "cell_type": "markdown",
   "metadata": {},
   "source": [
    "When finished, you can close the environment."
   ]
  },
  {
   "cell_type": "code",
   "execution_count": 5,
   "metadata": {},
   "outputs": [],
   "source": [
    "%load_ext autoreload\n",
    "%autoreload 2"
   ]
  },
  {
   "cell_type": "code",
   "execution_count": 3,
   "metadata": {},
   "outputs": [],
   "source": [
    "from maddpg import MADDPG\n",
    "import torch\n",
    "from collections import deque\n",
    "from matplotlib import pyplot as plt"
   ]
  },
  {
   "cell_type": "code",
   "execution_count": 2,
   "metadata": {},
   "outputs": [],
   "source": [
    "agent = MADDPG(seed=2, noise_start=0.5, update_every=2, gamma=1, t_stop_noise=30000)"
   ]
  },
  {
   "cell_type": "code",
   "execution_count": 9,
   "metadata": {},
   "outputs": [
    {
     "name": "stderr",
     "output_type": "stream",
     "text": [
      "c:\\users\\kiarie\\appdata\\local\\conda\\conda\\envs\\drlnd\\lib\\site-packages\\torch\\nn\\functional.py:1320: UserWarning: nn.functional.tanh is deprecated. Use torch.tanh instead.\n",
      "  warnings.warn(\"nn.functional.tanh is deprecated. Use torch.tanh instead.\")\n"
     ]
    },
    {
     "name": "stdout",
     "output_type": "stream",
     "text": [
      "Episode 200\tAverage Score: 0.009\n",
      "Episode 400\tAverage Score: 0.049\n",
      "Episode 600\tAverage Score: 0.008\n",
      "Episode 800\tAverage Score: 0.050\n",
      "Episode 1000\tAverage Score: 0.038\n",
      "Episode 1200\tAverage Score: 0.076\n",
      "Episode 1400\tAverage Score: 0.093\n",
      "Episode 1600\tAverage Score: 0.088\n",
      "Episode 1800\tAverage Score: 0.100\n",
      "Episode 2000\tAverage Score: 0.120\n",
      "Episode 2200\tAverage Score: 0.116\n",
      "Episode 2400\tAverage Score: 0.165\n",
      "Episode 2600\tAverage Score: 0.127\n",
      "Episode 2800\tAverage Score: 0.396\n",
      "Episode 2922\tAverage Score: 0.508\n",
      "Environment solved in 2922 episodes!\tAverage Score: 0.508\n"
     ]
    }
   ],
   "source": [
    "n_episodes = 6000\n",
    "max_t = 1000\n",
    "scores = []\n",
    "scores_deque = deque(maxlen=100)\n",
    "scores_avg = []\n",
    "\n",
    "for i_episode in range(1, n_episodes+1):\n",
    "    rewards = []\n",
    "    env_info = env.reset(train_mode=False)[brain_name]    # reset the environment    \n",
    "    state = env_info.vector_observations                  # get the current state (for each agent)\n",
    "\n",
    "    # loop over steps\n",
    "    for t in range(max_t):\n",
    "        # select an action\n",
    "        action = agent.act(state)\n",
    "        # take action in environment and set parameters to new values\n",
    "        env_info = env.step(action)[brain_name]\n",
    "        next_state = env_info.vector_observations\n",
    "        rewards_vec = env_info.rewards\n",
    "        done = env_info.local_done\n",
    "        # update and train agent with returned information\n",
    "        agent.step(state, action, rewards_vec, next_state, done)\n",
    "        state = next_state\n",
    "        rewards.append(rewards_vec)\n",
    "        if any(done):\n",
    "            break\n",
    "\n",
    "    # calculate episode reward as maximum of individually collected rewards of agents\n",
    "    episode_reward = np.max(np.sum(np.array(rewards),axis=0))\n",
    "        \n",
    "    scores.append(episode_reward)             # save most recent score to overall score array\n",
    "    scores_deque.append(episode_reward)       # save most recent score to running window of 100 last scores\n",
    "    current_avg_score = np.mean(scores_deque)\n",
    "    scores_avg.append(current_avg_score)      # save average of last 100 scores to average score array\n",
    "    \n",
    "    print('\\rEpisode {}\\tAverage Score: {:.3f}'.format(i_episode, current_avg_score),end=\"\")\n",
    "    \n",
    "    # log average score every 200 episodes\n",
    "    if i_episode % 200 == 0:\n",
    "        print('\\rEpisode {}\\tAverage Score: {:.3f}'.format(i_episode, current_avg_score))\n",
    "        agent.save_agents()\n",
    "\n",
    "    # break and report success if environment is solved\n",
    "    if np.mean(scores_deque)>=.5:\n",
    "        print('\\nEnvironment solved in {:d} episodes!\\tAverage Score: {:.3f}'.format(i_episode, np.mean(scores_deque)))\n",
    "        agent.save_agents()\n",
    "        break"
   ]
  },
  {
   "cell_type": "code",
   "execution_count": 11,
   "metadata": {},
   "outputs": [
    {
     "data": {
      "image/png": "[encoded data removed]",
      "text/plain": [
       "<Figure size 720x360 with 1 Axes>"
      ]
     },
     "metadata": {
      "needs_background": "light"
     },
     "output_type": "display_data"
    }
   ],
   "source": [
    "# plot the scores\n",
    "import pandas as pd\n",
    "fig, ax = plt.subplots(1, 1, figsize=[10, 5])\n",
    "plt.rcParams.update({'font.size': 14})\n",
    "\n",
    "scores_rolling = pd.Series(scores).rolling(100).mean()\n",
    "ax.plot(scores, \"-\", c=\"black\", alpha=0.25)\n",
    "ax.plot(scores_rolling, \"-\", c=\"blue\", linewidth=4)\n",
    "ax.set_xlabel(\"Episode\")\n",
    "ax.set_ylabel(\"Score\")\n",
    "ax.grid(which=\"major\")\n",
    "ax.axhline(0.45, c=\"red\", linewidth=5, alpha=0.5)\n",
    "ax.legend([\"Episode score\", \"Moving Average - 100 Episode\", \"Minimum moving average\"])\n",
    "\n",
    "fig.tight_layout()\n",
    "fig.savefig(\"score_graphs.jpg\")"
   ]
  },
  {
   "cell_type": "code",
   "execution_count": null,
   "metadata": {},
   "outputs": [],
   "source": [
    "env.close()"
   ]
  },
  {
   "cell_type": "code",
   "execution_count": null,
   "metadata": {},
   "outputs": [],
   "source": [
    ""
   ]
  },
  {
   "cell_type": "code",
   "execution_count": null,
   "metadata": {},
   "outputs": [],
   "source": []
  }
 ],
 "metadata": {
  "kernelspec": {
   "display_name": "Python 3",
   "language": "python",
   "name": "python3"
  },
  "language_info": {
   "codemirror_mode": {
    "name": "ipython",
    "version": 3
   },
   "file_extension": ".py",
   "mimetype": "text/x-python",
   "name": "python",
   "nbconvert_exporter": "python",
   "pygments_lexer": "ipython3",
   "version": "3.6.8"
  }
 },
 "nbformat": 4,
 "nbformat_minor": 2
}
